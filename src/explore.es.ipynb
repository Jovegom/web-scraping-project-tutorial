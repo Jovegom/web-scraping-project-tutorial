{
    "cells": [
        {
            "cell_type": "markdown",
            "metadata": {},
            "source": [
                "# Explora aquí\n",
                "\n",
                "Se recomienda utilizar este cuaderno con fines de exploración."
            ]
        },
        {
            "cell_type": "code",
            "execution_count": 5,
            "metadata": {},
            "outputs": [],
            "source": [
                "import os\n",
                "from bs4 import BeautifulSoup\n",
                "import requests\n",
                "import time\n",
                "import sqlite3\n",
                "import matplotlib.pyplot as plt\n",
                "import seaborn as sns\n",
                "import pandas as pd\n",
                "\n",
                "\n"
            ]
        },
        {
            "cell_type": "code",
            "execution_count": 6,
            "metadata": {},
            "outputs": [
                {
                    "name": "stderr",
                    "output_type": "stream",
                    "text": [
                        "/tmp/ipykernel_40241/4285692684.py:7: FutureWarning: Passing literal html to 'read_html' is deprecated and will be removed in a future version. To read from a literal string, wrap it in a 'StringIO' object.\n",
                        "  tabla=pd.read_html(response.text)[0]\n"
                    ]
                }
            ],
            "source": [
                "url= \"https://en.wikipedia.org/wiki/List_of_most-streamed_songs_on_Spotify\"\n",
                "headers = {\"User-Agent\": \"Mozilla/5.0 (Windows NT 10.0; Win64; x64) AppleWebKit/537.36 (KHTML, like Gecko) Chrome/127.0.0.1 Safari/537.36\"}\n",
                "response=requests.get(url,headers=headers)\n",
                "\n",
                "\n",
                "if response.status_code==200:\n",
                "    tabla=pd.read_html(response.text)[0]\n",
                "else:\n",
                "    print(f\"ha ocurrido un error {response.status_code}\")\n",
                "\n",
                " \n"
            ]
        },
        {
            "cell_type": "markdown",
            "metadata": {},
            "source": [
                "Eliminamos los valores NaN (en este caso la ultima columna es la que tiene)"
            ]
        },
        {
            "cell_type": "code",
            "execution_count": 7,
            "metadata": {},
            "outputs": [
                {
                    "name": "stdout",
                    "output_type": "stream",
                    "text": [
                        "                      Rank                   Song                 Artist(s)  \\\n",
                        "0                        1      \"Blinding Lights\"                The Weeknd   \n",
                        "1                        2         \"Shape of You\"                Ed Sheeran   \n",
                        "2                        3              \"Starboy\"  The Weeknd and Daft Punk   \n",
                        "3                        4      \"Sweater Weather\"         The Neighbourhood   \n",
                        "4                        5    \"Someone You Loved\"             Lewis Capaldi   \n",
                        "..                     ...                    ...                       ...   \n",
                        "96                      97  \"Sweet Child O' Mine\"             Guns N' Roses   \n",
                        "97                      98                 \"Sad!\"              XXXTentacion   \n",
                        "98                      99           \"Levitating\"       Dua Lipa and DaBaby   \n",
                        "99                     100     \"Someone Like You\"                     Adele   \n",
                        "100  As of 18 October 2025  As of 18 October 2025     As of 18 October 2025   \n",
                        "\n",
                        "        Streams (billions)           Release date  \n",
                        "0                    5.081       29 November 2019  \n",
                        "1                    4.598         6 January 2017  \n",
                        "2                    4.149      21 September 2016  \n",
                        "3                    4.098        3 December 2012  \n",
                        "4                    4.091        8 November 2018  \n",
                        "..                     ...                    ...  \n",
                        "96                   2.444            3 June 1988  \n",
                        "97                   2.443           2 March 2018  \n",
                        "98                   2.434         1 October 2020  \n",
                        "99                   2.427        24 January 2011  \n",
                        "100  As of 18 October 2025  As of 18 October 2025  \n",
                        "\n",
                        "[101 rows x 5 columns]\n"
                    ]
                }
            ],
            "source": [
                "tabla.dropna(axis=1,inplace=True)\n",
                "\n",
                "print(tabla)"
            ]
        },
        {
            "cell_type": "markdown",
            "metadata": {},
            "source": [
                "Cambiamos el formato de las columnas \"Release date\", \"Rank y de \"Streams (billions)\" y eliminamos la ultima fila de la tabla que no hace parte de los valores como tal"
            ]
        },
        {
            "cell_type": "code",
            "execution_count": 8,
            "metadata": {},
            "outputs": [
                {
                    "data": {
                        "text/html": [
                            "<div>\n",
                            "<style scoped>\n",
                            "    .dataframe tbody tr th:only-of-type {\n",
                            "        vertical-align: middle;\n",
                            "    }\n",
                            "\n",
                            "    .dataframe tbody tr th {\n",
                            "        vertical-align: top;\n",
                            "    }\n",
                            "\n",
                            "    .dataframe thead th {\n",
                            "        text-align: right;\n",
                            "    }\n",
                            "</style>\n",
                            "<table border=\"1\" class=\"dataframe\">\n",
                            "  <thead>\n",
                            "    <tr style=\"text-align: right;\">\n",
                            "      <th></th>\n",
                            "      <th>Rank</th>\n",
                            "      <th>Song</th>\n",
                            "      <th>Artist(s)</th>\n",
                            "      <th>Streams (billions)</th>\n",
                            "      <th>Release date</th>\n",
                            "    </tr>\n",
                            "  </thead>\n",
                            "  <tbody>\n",
                            "    <tr>\n",
                            "      <th>0</th>\n",
                            "      <td>1</td>\n",
                            "      <td>\"Blinding Lights\"</td>\n",
                            "      <td>The Weeknd</td>\n",
                            "      <td>5081</td>\n",
                            "      <td>2019-11-29</td>\n",
                            "    </tr>\n",
                            "    <tr>\n",
                            "      <th>1</th>\n",
                            "      <td>2</td>\n",
                            "      <td>\"Shape of You\"</td>\n",
                            "      <td>Ed Sheeran</td>\n",
                            "      <td>4598</td>\n",
                            "      <td>2017-01-06</td>\n",
                            "    </tr>\n",
                            "    <tr>\n",
                            "      <th>2</th>\n",
                            "      <td>3</td>\n",
                            "      <td>\"Starboy\"</td>\n",
                            "      <td>The Weeknd and Daft Punk</td>\n",
                            "      <td>4149</td>\n",
                            "      <td>2016-09-21</td>\n",
                            "    </tr>\n",
                            "    <tr>\n",
                            "      <th>3</th>\n",
                            "      <td>4</td>\n",
                            "      <td>\"Sweater Weather\"</td>\n",
                            "      <td>The Neighbourhood</td>\n",
                            "      <td>4098</td>\n",
                            "      <td>2012-12-03</td>\n",
                            "    </tr>\n",
                            "    <tr>\n",
                            "      <th>4</th>\n",
                            "      <td>5</td>\n",
                            "      <td>\"Someone You Loved\"</td>\n",
                            "      <td>Lewis Capaldi</td>\n",
                            "      <td>4091</td>\n",
                            "      <td>2018-11-08</td>\n",
                            "    </tr>\n",
                            "    <tr>\n",
                            "      <th>...</th>\n",
                            "      <td>...</td>\n",
                            "      <td>...</td>\n",
                            "      <td>...</td>\n",
                            "      <td>...</td>\n",
                            "      <td>...</td>\n",
                            "    </tr>\n",
                            "    <tr>\n",
                            "      <th>95</th>\n",
                            "      <td>96</td>\n",
                            "      <td>\"Creep\"</td>\n",
                            "      <td>Radiohead</td>\n",
                            "      <td>2450</td>\n",
                            "      <td>1992-09-21</td>\n",
                            "    </tr>\n",
                            "    <tr>\n",
                            "      <th>96</th>\n",
                            "      <td>97</td>\n",
                            "      <td>\"Sweet Child O' Mine\"</td>\n",
                            "      <td>Guns N' Roses</td>\n",
                            "      <td>2444</td>\n",
                            "      <td>1988-06-03</td>\n",
                            "    </tr>\n",
                            "    <tr>\n",
                            "      <th>97</th>\n",
                            "      <td>98</td>\n",
                            "      <td>\"Sad!\"</td>\n",
                            "      <td>XXXTentacion</td>\n",
                            "      <td>2443</td>\n",
                            "      <td>2018-03-02</td>\n",
                            "    </tr>\n",
                            "    <tr>\n",
                            "      <th>98</th>\n",
                            "      <td>99</td>\n",
                            "      <td>\"Levitating\"</td>\n",
                            "      <td>Dua Lipa and DaBaby</td>\n",
                            "      <td>2434</td>\n",
                            "      <td>2020-10-01</td>\n",
                            "    </tr>\n",
                            "    <tr>\n",
                            "      <th>99</th>\n",
                            "      <td>100</td>\n",
                            "      <td>\"Someone Like You\"</td>\n",
                            "      <td>Adele</td>\n",
                            "      <td>2427</td>\n",
                            "      <td>2011-01-24</td>\n",
                            "    </tr>\n",
                            "  </tbody>\n",
                            "</table>\n",
                            "<p>100 rows × 5 columns</p>\n",
                            "</div>"
                        ],
                        "text/plain": [
                            "    Rank                   Song                 Artist(s)  Streams (billions)  \\\n",
                            "0      1      \"Blinding Lights\"                The Weeknd                5081   \n",
                            "1      2         \"Shape of You\"                Ed Sheeran                4598   \n",
                            "2      3              \"Starboy\"  The Weeknd and Daft Punk                4149   \n",
                            "3      4      \"Sweater Weather\"         The Neighbourhood                4098   \n",
                            "4      5    \"Someone You Loved\"             Lewis Capaldi                4091   \n",
                            "..   ...                    ...                       ...                 ...   \n",
                            "95    96                \"Creep\"                 Radiohead                2450   \n",
                            "96    97  \"Sweet Child O' Mine\"             Guns N' Roses                2444   \n",
                            "97    98                 \"Sad!\"              XXXTentacion                2443   \n",
                            "98    99           \"Levitating\"       Dua Lipa and DaBaby                2434   \n",
                            "99   100     \"Someone Like You\"                     Adele                2427   \n",
                            "\n",
                            "   Release date  \n",
                            "0    2019-11-29  \n",
                            "1    2017-01-06  \n",
                            "2    2016-09-21  \n",
                            "3    2012-12-03  \n",
                            "4    2018-11-08  \n",
                            "..          ...  \n",
                            "95   1992-09-21  \n",
                            "96   1988-06-03  \n",
                            "97   2018-03-02  \n",
                            "98   2020-10-01  \n",
                            "99   2011-01-24  \n",
                            "\n",
                            "[100 rows x 5 columns]"
                        ]
                    },
                    "execution_count": 8,
                    "metadata": {},
                    "output_type": "execute_result"
                }
            ],
            "source": [
                "#Eliminamos la ultima fila\n",
                "tabla=tabla.drop(100)\n",
                "# Cambiamos formatos y tambien quitamos \".\"\n",
                "tabla[\"Release date\"]=pd.to_datetime(tabla['Release date'], format='%d %B %Y', errors='coerce')\n",
                "tabla[\"Rank\"]=pd.to_numeric(tabla[\"Rank\"])\n",
                "tabla[\"Streams (billions)\"]=tabla[\"Streams (billions)\"].str.replace('.','',regex=False).astype(int)\n",
                "#Quitamos simbolos que no necesitemos\n",
                "tabla[\"Song\"]=tabla[\"Song\"].str.replace(r'\\[.*?\\]','',regex=True)\n",
                "tabla['Artist(s)']=tabla['Artist(s)'].str.replace(r'\\[.*?\\]','',regex=True)\n",
                "tabla\n"
            ]
        },
        {
            "cell_type": "markdown",
            "metadata": {},
            "source": [
                "Almacenamos datos y creamos tabla en SQL"
            ]
        },
        {
            "cell_type": "code",
            "execution_count": 9,
            "metadata": {},
            "outputs": [],
            "source": [
                "# Cramos base de datos\n",
                "BaseDatos=sqlite3.connect(\"Canciones_mas_escuchadas.db\")\n",
                "# Creamos tabla\n",
                "tabla.to_sql(\"Canciones_top\",BaseDatos,if_exists=\"replace\",index=False)\n",
                "\n",
                "\n",
                "BaseDatos.commit()\n",
                "BaseDatos.close()\n"
            ]
        },
        {
            "cell_type": "markdown",
            "metadata": {},
            "source": [
                "Visualizacion"
            ]
        },
        {
            "cell_type": "code",
            "execution_count": 11,
            "metadata": {},
            "outputs": [
                {
                    "ename": "SyntaxError",
                    "evalue": "invalid syntax. Maybe you meant '==' or ':=' instead of '='? (4277894546.py, line 2)",
                    "output_type": "error",
                    "traceback": [
                        "  \u001b[36mCell\u001b[39m\u001b[36m \u001b[39m\u001b[32mIn[11]\u001b[39m\u001b[32m, line 2\u001b[39m\n\u001b[31m    \u001b[39m\u001b[31msns.barplot=(data=top10,x=\"Streams (billions)\",y=\"Song\",hue=\"Song\",palette=\"viridis\", legend=False)\u001b[39m\n                 ^\n\u001b[31mSyntaxError\u001b[39m\u001b[31m:\u001b[39m invalid syntax. Maybe you meant '==' or ':=' instead of '='?\n"
                    ]
                }
            ],
            "source": [
                "top10=tabla.nlargest(10,\"Streams (billions)\")\n",
                "sns.barplot=(data=top10,x=\"Streams (billions)\",y=\"Song\",hue=\"Song\",palette=\"viridis\", legend=False)"
            ]
        }
    ],
    "metadata": {
        "kernelspec": {
            "display_name": "Python 3",
            "language": "python",
            "name": "python3"
        },
        "language_info": {
            "codemirror_mode": {
                "name": "ipython",
                "version": 3
            },
            "file_extension": ".py",
            "mimetype": "text/x-python",
            "name": "python",
            "nbconvert_exporter": "python",
            "pygments_lexer": "ipython3",
            "version": "3.11.4"
        },
        "orig_nbformat": 4
    },
    "nbformat": 4,
    "nbformat_minor": 2
}
