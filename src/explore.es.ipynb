{
    "cells": [
        {
            "cell_type": "markdown",
            "metadata": {},
            "source": [
                "# Explora aquí\n",
                "\n",
                "Se recomienda utilizar este cuaderno con fines de exploración."
            ]
        },
        {
            "cell_type": "code",
            "execution_count": 1,
            "metadata": {},
            "outputs": [],
            "source": [
                "import os\n",
                "from bs4 import BeautifulSoup\n",
                "import requests\n",
                "import time\n",
                "import sqlite3\n",
                "import matplotlib.pyplot as plt\n",
                "import seaborn as sns\n",
                "import pandas as pd\n",
                "\n",
                "\n"
            ]
        },
        {
            "cell_type": "code",
            "execution_count": 2,
            "metadata": {},
            "outputs": [
                {
                    "name": "stderr",
                    "output_type": "stream",
                    "text": [
                        "/tmp/ipykernel_1580/4285692684.py:7: FutureWarning: Passing literal html to 'read_html' is deprecated and will be removed in a future version. To read from a literal string, wrap it in a 'StringIO' object.\n",
                        "  tabla=pd.read_html(response.text)[0]\n"
                    ]
                }
            ],
            "source": [
                "url= \"https://en.wikipedia.org/wiki/List_of_most-streamed_songs_on_Spotify\"\n",
                "headers = {\"User-Agent\": \"Mozilla/5.0 (Windows NT 10.0; Win64; x64) AppleWebKit/537.36 (KHTML, like Gecko) Chrome/127.0.0.1 Safari/537.36\"}\n",
                "response=requests.get(url,headers=headers)\n",
                "\n",
                "\n",
                "if response.status_code==200:\n",
                "    tabla=pd.read_html(response.text)[0]\n",
                "else:\n",
                "    print(f\"ha ocurrido un error {response.status_code}\")\n",
                "\n",
                " \n"
            ]
        },
        {
            "cell_type": "markdown",
            "metadata": {},
            "source": [
                "Eliminamos los valores NaN (en este caso la ultima columna es la que tiene)"
            ]
        },
        {
            "cell_type": "code",
            "execution_count": null,
            "metadata": {},
            "outputs": [
                {
                    "name": "stdout",
                    "output_type": "stream",
                    "text": [
                        "Rank                  object\n",
                        "Song                  object\n",
                        "Artist(s)             object\n",
                        "Streams (billions)    object\n",
                        "Release date          object\n",
                        "dtype: object\n"
                    ]
                }
            ],
            "source": [
                "tabla.dropna(axis=1,inplace=True)\n",
                "\n",
                "print(tabla)"
            ]
        },
        {
            "cell_type": "markdown",
            "metadata": {},
            "source": [
                "Miramos que tipo de dato tienen las columnas, las convertimos en str, para elimnar aquello que no nos interesa y despues las convertimos en el tipo de dato que nos convenga."
            ]
        },
        {
            "cell_type": "code",
            "execution_count": 12,
            "metadata": {},
            "outputs": [
                {
                    "name": "stdout",
                    "output_type": "stream",
                    "text": [
                        "Rank                  object\n",
                        "Song                  object\n",
                        "Artist(s)             object\n",
                        "Streams (billions)    object\n",
                        "Release date          object\n",
                        "dtype: object\n"
                    ]
                }
            ],
            "source": [
                "print(tabla.dtypes)"
            ]
        },
        {
            "cell_type": "code",
            "execution_count": 22,
            "metadata": {},
            "outputs": [
                {
                    "name": "stdout",
                    "output_type": "stream",
                    "text": [
                        "   Rank                                       Song  \\\n",
                        "0     1                          \"Blinding Lights\"   \n",
                        "8     9                                     \"Stay\"   \n",
                        "10   11                                 \"Believer\"   \n",
                        "12   13                                   \"Lovely\"   \n",
                        "16   17                         \"I Wanna Be Yours\"   \n",
                        "28   29                       \"Birds of a Feather\"   \n",
                        "32   33                         \"Die with a Smile\"   \n",
                        "38   39                    \"Every Breath You Take\"   \n",
                        "39   40                     \"Just the Way You Are\"   \n",
                        "40   41                        \"Bohemian Rhapsody\"   \n",
                        "41   42                            \"Love Yourself\"   \n",
                        "43   44                                  \"Shallow\"   \n",
                        "48   49                     \"Locked out of Heaven\"   \n",
                        "49   50                      \"When I Was Your Man\"   \n",
                        "52   53                           \"Mr. Brightside\"   \n",
                        "54   55                       \"That's What I Like\"   \n",
                        "55   56                                  \"Bad Guy\"   \n",
                        "63   64                          \"Let Me Love You\"   \n",
                        "68   69                         \"Treat You Better\"   \n",
                        "72   73                                \"Kill Bill\"   \n",
                        "73   74                     \"Don't Stop Believin'\"   \n",
                        "75   76                                    \"Sorry\"   \n",
                        "79   80          \"There's Nothing Holdin' Me Back\"   \n",
                        "82   83                         \"Beautiful Things\"   \n",
                        "87   88                                  \"Happier\"   \n",
                        "91   92                              \"Uptown Funk\"   \n",
                        "94   95  \"Clean Baby Sleep White Noise (Loopable)\"   \n",
                        "98   99                               \"Levitating\"   \n",
                        "\n",
                        "                          Artist(s) Streams (billions)       Release date  \n",
                        "0                        The Weeknd              5.077   29 November 2019  \n",
                        "8   The Kid Laroi and Justin Bieber              3.692        9 July 2021  \n",
                        "10                  Imagine Dragons              3.611    1 February 2017  \n",
                        "12         Billie Eilish and Khalid              3.497      19 April 2018  \n",
                        "16                   Arctic Monkeys              3.357   9 September 2013  \n",
                        "28                    Billie Eilish              3.117        17 May 2024  \n",
                        "32         Lady Gaga and Bruno Mars              3.056     16 August 2024  \n",
                        "38                       The Police              2.953        20 May 1983  \n",
                        "39                       Bruno Mars              2.948       20 July 2010  \n",
                        "40                            Queen              2.938    31 October 1975  \n",
                        "41                    Justin Bieber              2.927    9 November 2015  \n",
                        "43     Lady Gaga and Bradley Cooper              2.908  27 September 2018  \n",
                        "48                       Bruno Mars              2.844     1 October 2012  \n",
                        "49                       Bruno Mars              2.832    7 December 2012  \n",
                        "52                      The Killers              2.823  29 September 2003  \n",
                        "54                       Bruno Mars              2.810   18 November 2016  \n",
                        "55                    Billie Eilish              2.809      29 March 2019  \n",
                        "63       DJ Snake and Justin Bieber              2.688      5 August 2016  \n",
                        "68                     Shawn Mendes              2.640        3 June 2016  \n",
                        "72                              SZA              2.622    9 December 2022  \n",
                        "73                          Journey              2.605    19 October 1981  \n",
                        "75                    Justin Bieber              2.593    22 October 2015  \n",
                        "79                     Shawn Mendes              2.576      20 April 2017  \n",
                        "82                     Benson Boone              2.523    19 January 2024  \n",
                        "87          Marshmello and Bastille              2.492     16 August 2018  \n",
                        "91       Mark Ronson and Bruno Mars              2.457   10 November 2014  \n",
                        "94                   Dream Supplier              2.455      29 April 2020  \n",
                        "98              Dua Lipa and DaBaby              2.432     1 October 2020  \n"
                    ]
                }
            ],
            "source": [
                "tabla=tabla.astype(str)\n",
                "mask = tabla.astype(str).apply(lambda col: col.str.contains(r'\\$|B', na=False))\n",
                "filas_con_simbolos = tabla[mask.any(axis=1)]\n",
                "print(filas_con_simbolos)\n"
            ]
        }
    ],
    "metadata": {
        "kernelspec": {
            "display_name": "Python 3",
            "language": "python",
            "name": "python3"
        },
        "language_info": {
            "codemirror_mode": {
                "name": "ipython",
                "version": 3
            },
            "file_extension": ".py",
            "mimetype": "text/x-python",
            "name": "python",
            "nbconvert_exporter": "python",
            "pygments_lexer": "ipython3",
            "version": "3.11.4"
        },
        "orig_nbformat": 4
    },
    "nbformat": 4,
    "nbformat_minor": 2
}
